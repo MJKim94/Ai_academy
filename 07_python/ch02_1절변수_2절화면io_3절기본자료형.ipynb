{
 "cells": [
  {
   "cell_type": "code",
   "execution_count": 1,
   "id": "54a03f67",
   "metadata": {
    "ExecuteTime": {
     "end_time": "2024-11-04T07:36:24.774966Z",
     "start_time": "2024-11-04T07:36:24.765990Z"
    }
   },
   "outputs": [
    {
     "data": {
      "text/html": [
       "\n",
       "<style>\n",
       "div.container{width:80% !important;}\n",
       "div.CodeMirror {font-family:Consolas; font-size:13pt;}\n",
       "div.output {font-size:13pt; font-weight:bold;}\n",
       "div.input {font-family:Consolas; font-size:13pt;}\n",
       "div.prompt {min-width:70px;}\n",
       "div#toc-header{margin-top:150px;}\n",
       "span.toc-item-num{\n",
       "display:none;\n",
       "}\n",
       "</style>\n"
      ],
      "text/plain": [
       "<IPython.core.display.HTML object>"
      ]
     },
     "metadata": {},
     "output_type": "display_data"
    }
   ],
   "source": [
    "from IPython.display import display, HTML\n",
    "display(HTML(\"\"\"\n",
    "<style>\n",
    "div.container{width:80% !important;}\n",
    "div.CodeMirror {font-family:Consolas; font-size:13pt;}\n",
    "div.output {font-size:13pt; font-weight:bold;}\n",
    "div.input {font-family:Consolas; font-size:13pt;}\n",
    "div.prompt {min-width:70px;}\n",
    "div#toc-header{margin-top:150px;}\n",
    "span.toc-item-num{\n",
    "display:none;\n",
    "}\n",
    "</style>\n",
    "\"\"\"))"
   ]
  },
  {
   "cell_type": "markdown",
   "id": "a894c77c",
   "metadata": {},
   "source": [
    "<br> ch02. 자료형과 연산자</br>"
   ]
  },
  {
   "cell_type": "markdown",
   "id": "5b6542da",
   "metadata": {},
   "source": [
    "# 1절. 변수"
   ]
  },
  {
   "cell_type": "markdown",
   "id": "99d553c7",
   "metadata": {},
   "source": [
    "## 1.1변수 선언\n",
    "- 파이썬은 변수 선언을 위한 타입이 없고, 별도의 선언 과정도 없음"
   ]
  },
  {
   "cell_type": "markdown",
   "id": "591e069c",
   "metadata": {},
   "source": [
    "## 1.2 변수 할당\n",
    "- 할당 연산자를 이용해서 변수값을 할당하면 타입이 셋팅\n",
    "- 파이썬에서의 모든 변수는 객체 "
   ]
  },
  {
   "cell_type": "code",
   "execution_count": 6,
   "id": "a78e7902",
   "metadata": {
    "ExecuteTime": {
     "end_time": "2024-11-04T07:34:41.429342Z",
     "start_time": "2024-11-04T07:34:41.421363Z"
    }
   },
   "outputs": [
    {
     "name": "stdout",
     "output_type": "stream",
     "text": [
      "계산된 넓이는 78.5\n"
     ]
    }
   ],
   "source": [
    "r = 5\n",
    "area = 3.14 * r * r\n",
    "print('계산된 넓이는', area)"
   ]
  },
  {
   "cell_type": "code",
   "execution_count": 7,
   "id": "3b2114ce",
   "metadata": {},
   "outputs": [],
   "source": [
    "import numpy as np # numpy 라는 패키지(폴더)를 np라는 이름으로 사용"
   ]
  },
  {
   "cell_type": "code",
   "execution_count": 8,
   "id": "3a07b022",
   "metadata": {},
   "outputs": [
    {
     "name": "stdout",
     "output_type": "stream",
     "text": [
      "78.53981633974483\n"
     ]
    }
   ],
   "source": [
    "area = np.pi * r * r\n",
    "print(area)"
   ]
  },
  {
   "cell_type": "code",
   "execution_count": 11,
   "id": "959871b3",
   "metadata": {},
   "outputs": [
    {
     "name": "stdout",
     "output_type": "stream",
     "text": [
      "area의 주소 :  2750546637840\n",
      "area의 타입 :  <class 'float'>\n"
     ]
    }
   ],
   "source": [
    "print('area의 주소 : ',id(area)) # id(area) : area변수(객체)의 주소값\n",
    "print('area의 타입 : ',type(area))"
   ]
  },
  {
   "cell_type": "code",
   "execution_count": 12,
   "id": "24243356",
   "metadata": {},
   "outputs": [
    {
     "data": {
      "text/plain": [
       "False"
      ]
     },
     "execution_count": 12,
     "metadata": {},
     "output_type": "execute_result"
    }
   ],
   "source": [
    "area.is_integer()"
   ]
  },
  {
   "cell_type": "code",
   "execution_count": 13,
   "id": "acff0fb7",
   "metadata": {},
   "outputs": [],
   "source": [
    "area = 10"
   ]
  },
  {
   "cell_type": "code",
   "execution_count": 14,
   "id": "3d6d42aa",
   "metadata": {},
   "outputs": [
    {
     "name": "stdout",
     "output_type": "stream",
     "text": [
      "area의 주소 :  2750424351248\n",
      "area의 타입 :  <class 'int'>\n"
     ]
    }
   ],
   "source": [
    "print('area의 주소 : ',id(area)) # id(area) : area변수(객체)의 주소값\n",
    "print('area의 타입 : ',type(area))"
   ]
  },
  {
   "cell_type": "code",
   "execution_count": 15,
   "id": "7e0fdb29",
   "metadata": {},
   "outputs": [],
   "source": [
    "area = '파이썬'"
   ]
  },
  {
   "cell_type": "code",
   "execution_count": 16,
   "id": "fb730c02",
   "metadata": {},
   "outputs": [
    {
     "name": "stdout",
     "output_type": "stream",
     "text": [
      "area의 주소 :  2750547589616\n",
      "area의 타입 :  <class 'str'>\n"
     ]
    }
   ],
   "source": [
    "print('area의 주소 : ',id(area)) # id(area) : area변수(객체)의 주소값\n",
    "print('area의 타입 : ',type(area))"
   ]
  },
  {
   "cell_type": "markdown",
   "id": "85efe203",
   "metadata": {},
   "source": [
    "## 1.3 변수 이름 규칙\n",
    "- 문자로 시작\n",
    "- 문자(특수문자는 _ 제외 하고는 사용못함), 숫자, _로 변수명을 작성 가능\n",
    "- 함수명은 변수이름으로 가능은 하지만 피한다.(어쩔수없이 사용해야 한다면 int_식으로 _를 사용한다 )\n",
    "- 파이썬 예약어(if, while, ...)사용은 변수이름 사용 불가능\n",
    "- 한글 변수는 꼭 필요할때만 사용 한다"
   ]
  },
  {
   "cell_type": "code",
   "execution_count": 22,
   "id": "950e8e17",
   "metadata": {},
   "outputs": [
    {
     "data": {
      "text/plain": [
       "'홍길동'"
      ]
     },
     "execution_count": 22,
     "metadata": {},
     "output_type": "execute_result"
    }
   ],
   "source": [
    "이름 = \"홍길동\"\n",
    "이름"
   ]
  },
  {
   "cell_type": "code",
   "execution_count": 23,
   "id": "dcd78002",
   "metadata": {},
   "outputs": [
    {
     "name": "stdout",
     "output_type": "stream",
     "text": [
      "홍길동\n"
     ]
    }
   ],
   "source": [
    "print(이름)"
   ]
  },
  {
   "cell_type": "code",
   "execution_count": null,
   "id": "bd054cf5",
   "metadata": {},
   "outputs": [],
   "source": [
    "if = 5"
   ]
  },
  {
   "cell_type": "code",
   "execution_count": null,
   "id": "29c24954",
   "metadata": {},
   "outputs": [],
   "source": [
    "member_name = 5 # \n",
    "memberName = 5 # 카멜표기법"
   ]
  },
  {
   "cell_type": "code",
   "execution_count": 25,
   "id": "51659ca1",
   "metadata": {},
   "outputs": [],
   "source": [
    "print = 5"
   ]
  },
  {
   "cell_type": "code",
   "execution_count": 26,
   "id": "3db797b0",
   "metadata": {},
   "outputs": [
    {
     "name": "stdout",
     "output_type": "stream",
     "text": [
      "홍길동\n"
     ]
    }
   ],
   "source": [
    "del print #print 변수 삭제\n",
    "print_ = 5\n",
    "print(이름)"
   ]
  },
  {
   "cell_type": "markdown",
   "id": "cd2492b5",
   "metadata": {},
   "source": [
    "## 1.4 도움말"
   ]
  },
  {
   "cell_type": "code",
   "execution_count": 27,
   "id": "91b6ff69",
   "metadata": {},
   "outputs": [
    {
     "data": {
      "text/plain": [
       "complex"
      ]
     },
     "execution_count": 27,
     "metadata": {},
     "output_type": "execute_result"
    }
   ],
   "source": [
    "i = 3 + 3j\n",
    "type(i)"
   ]
  },
  {
   "cell_type": "code",
   "execution_count": 28,
   "id": "4c7ee5a5",
   "metadata": {},
   "outputs": [
    {
     "data": {
      "text/plain": [
       "True"
      ]
     },
     "execution_count": 28,
     "metadata": {},
     "output_type": "execute_result"
    }
   ],
   "source": [
    "isinstance(i, complex) # i 변수(객체)가 complex타입인지 여부"
   ]
  },
  {
   "cell_type": "code",
   "execution_count": null,
   "id": "d33dd297",
   "metadata": {},
   "outputs": [],
   "source": [
    "print()"
   ]
  },
  {
   "cell_type": "code",
   "execution_count": 30,
   "id": "bd3f4d4c",
   "metadata": {},
   "outputs": [],
   "source": [
    "def add(x, y=0):\n",
    "    '''\n",
    "    매개변수 2개를 받아 두자리 숫자로 만들어요\n",
    "    x = 10의 자리수가 되고\n",
    "    y = 1의 자리수가 된다(default값이 0)\n",
    "    사용법 : add(2,4) => 24\n",
    "    '''\n",
    "    return x*10+y"
   ]
  },
  {
   "cell_type": "code",
   "execution_count": 31,
   "id": "a07c1a0e",
   "metadata": {},
   "outputs": [
    {
     "data": {
      "text/plain": [
       "54"
      ]
     },
     "execution_count": 31,
     "metadata": {},
     "output_type": "execute_result"
    }
   ],
   "source": [
    "add(5,4)"
   ]
  },
  {
   "cell_type": "code",
   "execution_count": 32,
   "id": "de3fe4ae",
   "metadata": {},
   "outputs": [
    {
     "data": {
      "text/plain": [
       "50"
      ]
     },
     "execution_count": 32,
     "metadata": {},
     "output_type": "execute_result"
    }
   ],
   "source": [
    "add(5)"
   ]
  },
  {
   "cell_type": "code",
   "execution_count": 33,
   "id": "621c8542",
   "metadata": {},
   "outputs": [],
   "source": [
    "a = add # 함수형 언어는 변수에 함수 할당이 가능"
   ]
  },
  {
   "cell_type": "code",
   "execution_count": 34,
   "id": "594eae00",
   "metadata": {},
   "outputs": [
    {
     "data": {
      "text/plain": [
       "54"
      ]
     },
     "execution_count": 34,
     "metadata": {},
     "output_type": "execute_result"
    }
   ],
   "source": [
    "a(5,4)"
   ]
  },
  {
   "cell_type": "code",
   "execution_count": 35,
   "id": "eacae4e0",
   "metadata": {},
   "outputs": [
    {
     "data": {
      "text/plain": [
       "50"
      ]
     },
     "execution_count": 35,
     "metadata": {},
     "output_type": "execute_result"
    }
   ],
   "source": [
    "a(5)"
   ]
  },
  {
   "cell_type": "markdown",
   "id": "804e48ac",
   "metadata": {},
   "source": [
    "## 1.5 다중 변수 선언"
   ]
  },
  {
   "cell_type": "code",
   "execution_count": 36,
   "id": "0463277d",
   "metadata": {},
   "outputs": [],
   "source": [
    "a = 10\n",
    "b = 20"
   ]
  },
  {
   "cell_type": "code",
   "execution_count": 37,
   "id": "8de4b951",
   "metadata": {},
   "outputs": [],
   "source": [
    "a, b = 10, 20 # 동시에 다중변수 선언"
   ]
  },
  {
   "cell_type": "code",
   "execution_count": 38,
   "id": "75e0bcf5",
   "metadata": {},
   "outputs": [
    {
     "data": {
      "text/plain": [
       "(10, 20)"
      ]
     },
     "execution_count": 38,
     "metadata": {},
     "output_type": "execute_result"
    }
   ],
   "source": [
    "a, b"
   ]
  },
  {
   "cell_type": "code",
   "execution_count": 39,
   "id": "d7b34c8f",
   "metadata": {},
   "outputs": [],
   "source": [
    "a, b = b, a+b"
   ]
  },
  {
   "cell_type": "code",
   "execution_count": 40,
   "id": "a431bc49",
   "metadata": {},
   "outputs": [
    {
     "data": {
      "text/plain": [
       "(20, 30)"
      ]
     },
     "execution_count": 40,
     "metadata": {},
     "output_type": "execute_result"
    }
   ],
   "source": [
    "a, b"
   ]
  },
  {
   "cell_type": "markdown",
   "id": "6f1d3ec3",
   "metadata": {},
   "source": [
    "# 2절. 화면 i/o"
   ]
  },
  {
   "cell_type": "code",
   "execution_count": 42,
   "id": "fcc5b3f7",
   "metadata": {
    "code_folding": []
   },
   "outputs": [
    {
     "name": "stdout",
     "output_type": "stream",
     "text": [
      "10\n"
     ]
    },
    {
     "data": {
      "text/plain": [
       "'10'"
      ]
     },
     "execution_count": 42,
     "metadata": {},
     "output_type": "execute_result"
    }
   ],
   "source": [
    "# input() : 사용자로부터 값을 입력받기 위한 함수. 입력값은 문자열\n",
    "first = input()\n",
    "first"
   ]
  },
  {
   "cell_type": "code",
   "execution_count": 43,
   "id": "3b3f4159",
   "metadata": {},
   "outputs": [
    {
     "name": "stdout",
     "output_type": "stream",
     "text": [
      "첫번째 숫자는?10\n",
      "두번째 숫자는?50\n"
     ]
    }
   ],
   "source": [
    "first = input('첫번째 숫자는?')\n",
    "second = input('두번째 숫자는?')"
   ]
  },
  {
   "cell_type": "code",
   "execution_count": 44,
   "id": "ee299784",
   "metadata": {},
   "outputs": [
    {
     "name": "stdout",
     "output_type": "stream",
     "text": [
      "두수의 합은 1050\n"
     ]
    }
   ],
   "source": [
    "print('두수의 합은', first+second)"
   ]
  },
  {
   "cell_type": "code",
   "execution_count": 45,
   "id": "dee30aac",
   "metadata": {},
   "outputs": [
    {
     "data": {
      "text/plain": [
       "'50'"
      ]
     },
     "execution_count": 45,
     "metadata": {},
     "output_type": "execute_result"
    }
   ],
   "source": [
    "second"
   ]
  },
  {
   "cell_type": "code",
   "execution_count": 46,
   "id": "373a2ae8",
   "metadata": {},
   "outputs": [
    {
     "data": {
      "text/plain": [
       "60"
      ]
     },
     "execution_count": 46,
     "metadata": {},
     "output_type": "execute_result"
    }
   ],
   "source": [
    "int(first) + int(second)"
   ]
  },
  {
   "cell_type": "code",
   "execution_count": 47,
   "id": "36dbe5a7",
   "metadata": {},
   "outputs": [],
   "source": [
    "sum = int(first) + int(second)"
   ]
  },
  {
   "cell_type": "code",
   "execution_count": 48,
   "id": "d4fb7ec6",
   "metadata": {},
   "outputs": [
    {
     "name": "stdout",
     "output_type": "stream",
     "text": [
      "합 60\n"
     ]
    }
   ],
   "source": [
    "print('합', sum)"
   ]
  },
  {
   "cell_type": "code",
   "execution_count": 49,
   "id": "477c15e4",
   "metadata": {},
   "outputs": [
    {
     "name": "stdout",
     "output_type": "stream",
     "text": [
      "합 / 60 / Hello / World \t\tHello ~ Python\n"
     ]
    }
   ],
   "source": [
    "print('합', sum, 'Hello', 'World', sep=' / ', end=' \\t\\t')\n",
    "print('Hello','Python', sep=' ~ ')"
   ]
  },
  {
   "cell_type": "code",
   "execution_count": 53,
   "id": "a0c09949",
   "metadata": {},
   "outputs": [
    {
     "name": "stdout",
     "output_type": "stream",
     "text": [
      "hello - world - hello - python\n"
     ]
    }
   ],
   "source": [
    "import sys\n",
    "print('hello', 'world', 'hello', 'python', sep=' - ')"
   ]
  },
  {
   "cell_type": "markdown",
   "id": "ba56f09a",
   "metadata": {},
   "source": [
    "# 3절. 기본 자료형\n",
    "- 프로그래밍 언어들은 변수가 가져야 할 값의 형식, 범위에 따라 값의 유형을 정해 놓고 사용.\n",
    "- 자료형에 따라 값의 크기와 저장방식이 달라짐.\n",
    "- 자료형에 따라 수행할수 있는 명령어들이 달라짐.\n",
    "\n",
    "  * '숫자' - int, float, complex\n",
    "  * '문자' - str\n",
    "  * '논리' - bool"
   ]
  },
  {
   "cell_type": "markdown",
   "id": "110701f8",
   "metadata": {},
   "source": [
    "## 3.1 숫자형"
   ]
  },
  {
   "cell_type": "code",
   "execution_count": 54,
   "id": "aba01e98",
   "metadata": {},
   "outputs": [
    {
     "name": "stdout",
     "output_type": "stream",
     "text": [
      "9223372036854775807\n"
     ]
    }
   ],
   "source": [
    "import sys\n",
    "print(sys.maxsize) # 정수의 최대값 : 2^63-1"
   ]
  },
  {
   "cell_type": "code",
   "execution_count": 55,
   "id": "c4ae3d53",
   "metadata": {},
   "outputs": [
    {
     "name": "stdout",
     "output_type": "stream",
     "text": [
      "i값: 9223372036854775907\n"
     ]
    }
   ],
   "source": [
    "i = sys.maxsize + 100\n",
    "print('i값:', i)"
   ]
  },
  {
   "cell_type": "code",
   "execution_count": 56,
   "id": "5da1d806",
   "metadata": {},
   "outputs": [
    {
     "data": {
      "text/plain": [
       "1.5"
      ]
     },
     "execution_count": 56,
     "metadata": {},
     "output_type": "execute_result"
    }
   ],
   "source": [
    "f = 3/2 # 정수/정수는 무조건 실수\n",
    "f"
   ]
  },
  {
   "cell_type": "code",
   "execution_count": 58,
   "id": "0f94fe3f",
   "metadata": {},
   "outputs": [
    {
     "data": {
      "text/plain": [
       "1.0"
      ]
     },
     "execution_count": 58,
     "metadata": {},
     "output_type": "execute_result"
    }
   ],
   "source": [
    "f = 3/3\n",
    "f"
   ]
  },
  {
   "cell_type": "markdown",
   "id": "8b384aad",
   "metadata": {},
   "source": [
    "## 3.2 문자형"
   ]
  },
  {
   "cell_type": "code",
   "execution_count": 62,
   "id": "41a567ce",
   "metadata": {},
   "outputs": [
    {
     "name": "stdout",
     "output_type": "stream",
     "text": [
      "홍길동'짱' 서울시 '관악구' 신림동\n"
     ]
    }
   ],
   "source": [
    "name = '홍길동\\'짱\\'' # 홍길동 '짱'\n",
    "address = \"서울시 '관악구' 신림동\"\n",
    "print(name, address)"
   ]
  },
  {
   "cell_type": "code",
   "execution_count": 63,
   "id": "74c1fcc2",
   "metadata": {},
   "outputs": [
    {
     "name": "stdout",
     "output_type": "stream",
     "text": [
      "여러줄짜리 내용을 저장\n",
      "줄바꿈 문자를 쓰면 당연히 여러줄 \n",
      "줄바꿈은 가동성 떨어져\n"
     ]
    }
   ],
   "source": [
    "text = '여러줄짜리 내용을 저장\\n줄바꿈 문자를 쓰면 당연히 여러줄 \\n줄바꿈은 가동성 떨어져'\n",
    "print(text)"
   ]
  },
  {
   "cell_type": "code",
   "execution_count": 64,
   "id": "36bdf9e4",
   "metadata": {},
   "outputs": [
    {
     "name": "stdout",
     "output_type": "stream",
     "text": [
      "여러줄짜리 내용을 저장\n",
      "줄바꿈문자 쓰지않고 따옴표 3개로 처리\n",
      "이처럼 쓰는 경우가 더 많이 있다\n",
      "\n"
     ]
    }
   ],
   "source": [
    "text = '''여러줄짜리 내용을 저장\n",
    "줄바꿈문자 쓰지않고 따옴표 3개로 처리\n",
    "이처럼 쓰는 경우가 더 많이 있다\n",
    "'''\n",
    "print(text)"
   ]
  },
  {
   "cell_type": "code",
   "execution_count": null,
   "id": "b2998af4",
   "metadata": {},
   "outputs": [],
   "source": []
  }
 ],
 "metadata": {
  "kernelspec": {
   "display_name": "Python 3 (ipykernel)",
   "language": "python",
   "name": "python3"
  },
  "language_info": {
   "codemirror_mode": {
    "name": "ipython",
    "version": 3
   },
   "file_extension": ".py",
   "mimetype": "text/x-python",
   "name": "python",
   "nbconvert_exporter": "python",
   "pygments_lexer": "ipython3",
   "version": "3.10.9"
  },
  "toc": {
   "base_numbering": 1,
   "nav_menu": {},
   "number_sections": true,
   "sideBar": true,
   "skip_h1_title": false,
   "title_cell": "Table of Contents",
   "title_sidebar": "Contents",
   "toc_cell": false,
   "toc_position": {
    "height": "calc(100% - 180px)",
    "left": "10px",
    "top": "150px",
    "width": "168.594px"
   },
   "toc_section_display": true,
   "toc_window_display": true
  }
 },
 "nbformat": 4,
 "nbformat_minor": 5
}
